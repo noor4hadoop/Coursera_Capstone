{
    "nbformat_minor": 2, 
    "cells": [
        {
            "execution_count": 1, 
            "cell_type": "code", 
            "source": "import numpy as np\nimport pandas as pd\nimport geocoder", 
            "outputs": [], 
            "metadata": {}
        }, 
        {
            "source": "Read the DataFrame from Part1", 
            "cell_type": "markdown", 
            "metadata": {}
        }, 
        {
            "execution_count": 11, 
            "cell_type": "code", 
            "source": "df = pd.read_csv('export_dataframe.csv')", 
            "outputs": [], 
            "metadata": {}
        }, 
        {
            "execution_count": 12, 
            "cell_type": "code", 
            "source": "df.head()", 
            "outputs": [
                {
                    "execution_count": 12, 
                    "output_type": "execute_result", 
                    "data": {
                        "text/plain": "  Postalcode      Borough                            Neighborhood\n0        M1B  Scarborough                          Rouge, Malvern\n1        M1C  Scarborough  Highland Creek, Rouge Hill, Port Union\n2        M1E  Scarborough       Guildwood, Morningside, West Hill\n3        M1G  Scarborough                                  Woburn\n4        M1H  Scarborough                               Cedarbrae", 
                        "text/html": "<div>\n<style scoped>\n    .dataframe tbody tr th:only-of-type {\n        vertical-align: middle;\n    }\n\n    .dataframe tbody tr th {\n        vertical-align: top;\n    }\n\n    .dataframe thead th {\n        text-align: right;\n    }\n</style>\n<table border=\"1\" class=\"dataframe\">\n  <thead>\n    <tr style=\"text-align: right;\">\n      <th></th>\n      <th>Postalcode</th>\n      <th>Borough</th>\n      <th>Neighborhood</th>\n    </tr>\n  </thead>\n  <tbody>\n    <tr>\n      <th>0</th>\n      <td>M1B</td>\n      <td>Scarborough</td>\n      <td>Rouge, Malvern</td>\n    </tr>\n    <tr>\n      <th>1</th>\n      <td>M1C</td>\n      <td>Scarborough</td>\n      <td>Highland Creek, Rouge Hill, Port Union</td>\n    </tr>\n    <tr>\n      <th>2</th>\n      <td>M1E</td>\n      <td>Scarborough</td>\n      <td>Guildwood, Morningside, West Hill</td>\n    </tr>\n    <tr>\n      <th>3</th>\n      <td>M1G</td>\n      <td>Scarborough</td>\n      <td>Woburn</td>\n    </tr>\n    <tr>\n      <th>4</th>\n      <td>M1H</td>\n      <td>Scarborough</td>\n      <td>Cedarbrae</td>\n    </tr>\n  </tbody>\n</table>\n</div>"
                    }, 
                    "metadata": {}
                }
            ], 
            "metadata": {}
        }, 
        {
            "execution_count": 13, 
            "cell_type": "code", 
            "source": "def get_latlng(postal_code):\n    # initialize your variable to None\n    lat_lng_coords = None\n    # loop until you get the coordinates\n    while(lat_lng_coords is None):\n        g = geocoder.arcgis('{}, Toronto, Ontario'.format(postal_code))\n        lat_lng_coords = g.latlng\n    return lat_lng_coords\n    \nget_latlng('M4G')", 
            "outputs": [
                {
                    "execution_count": 13, 
                    "output_type": "execute_result", 
                    "data": {
                        "text/plain": "[43.70976500000006, -79.36390090899994]"
                    }, 
                    "metadata": {}
                }
            ], 
            "metadata": {}
        }, 
        {
            "execution_count": 14, 
            "cell_type": "code", 
            "source": "postal_codes = df['Postalcode']    \ncoords = [ get_latlng(postal_code) for postal_code in postal_codes.tolist() ]", 
            "outputs": [], 
            "metadata": {}
        }, 
        {
            "execution_count": 15, 
            "cell_type": "code", 
            "source": "df_coords = pd.DataFrame(coords, columns=['Latitude', 'Longitude'])\ndf['Latitude'] = df_coords['Latitude']\ndf['Longitude'] = df_coords['Longitude']", 
            "outputs": [], 
            "metadata": {}
        }, 
        {
            "execution_count": 16, 
            "cell_type": "code", 
            "source": "df[df.Postalcode == 'M5G']", 
            "outputs": [
                {
                    "execution_count": 16, 
                    "output_type": "execute_result", 
                    "data": {
                        "text/plain": "   Postalcode           Borough        Neighborhood   Latitude  Longitude\n57        M5G  Downtown Toronto  Central Bay Street  43.656091  -79.38493", 
                        "text/html": "<div>\n<style scoped>\n    .dataframe tbody tr th:only-of-type {\n        vertical-align: middle;\n    }\n\n    .dataframe tbody tr th {\n        vertical-align: top;\n    }\n\n    .dataframe thead th {\n        text-align: right;\n    }\n</style>\n<table border=\"1\" class=\"dataframe\">\n  <thead>\n    <tr style=\"text-align: right;\">\n      <th></th>\n      <th>Postalcode</th>\n      <th>Borough</th>\n      <th>Neighborhood</th>\n      <th>Latitude</th>\n      <th>Longitude</th>\n    </tr>\n  </thead>\n  <tbody>\n    <tr>\n      <th>57</th>\n      <td>M5G</td>\n      <td>Downtown Toronto</td>\n      <td>Central Bay Street</td>\n      <td>43.656091</td>\n      <td>-79.38493</td>\n    </tr>\n  </tbody>\n</table>\n</div>"
                    }, 
                    "metadata": {}
                }
            ], 
            "metadata": {}
        }, 
        {
            "execution_count": 17, 
            "cell_type": "code", 
            "source": "df.head(10)", 
            "outputs": [
                {
                    "execution_count": 17, 
                    "output_type": "execute_result", 
                    "data": {
                        "text/plain": "  Postalcode      Borough                                     Neighborhood  \\\n0        M1B  Scarborough                                   Rouge, Malvern   \n1        M1C  Scarborough           Highland Creek, Rouge Hill, Port Union   \n2        M1E  Scarborough                Guildwood, Morningside, West Hill   \n3        M1G  Scarborough                                           Woburn   \n4        M1H  Scarborough                                        Cedarbrae   \n5        M1J  Scarborough                              Scarborough Village   \n6        M1K  Scarborough      East Birchmount Park, Ionview, Kennedy Park   \n7        M1L  Scarborough                  Clairlea, Golden Mile, Oakridge   \n8        M1M  Scarborough  Cliffcrest, Cliffside, Scarborough Village West   \n9        M1N  Scarborough                      Birch Cliff, Cliffside West   \n\n    Latitude  Longitude  \n0  43.811525 -79.195517  \n1  43.785730 -79.158750  \n2  43.765690 -79.175256  \n3  43.768359 -79.217590  \n4  43.769688 -79.239440  \n5  43.743125 -79.231750  \n6  43.726245 -79.263670  \n7  43.713133 -79.285055  \n8  43.723575 -79.234976  \n9  43.696665 -79.260163  ", 
                        "text/html": "<div>\n<style scoped>\n    .dataframe tbody tr th:only-of-type {\n        vertical-align: middle;\n    }\n\n    .dataframe tbody tr th {\n        vertical-align: top;\n    }\n\n    .dataframe thead th {\n        text-align: right;\n    }\n</style>\n<table border=\"1\" class=\"dataframe\">\n  <thead>\n    <tr style=\"text-align: right;\">\n      <th></th>\n      <th>Postalcode</th>\n      <th>Borough</th>\n      <th>Neighborhood</th>\n      <th>Latitude</th>\n      <th>Longitude</th>\n    </tr>\n  </thead>\n  <tbody>\n    <tr>\n      <th>0</th>\n      <td>M1B</td>\n      <td>Scarborough</td>\n      <td>Rouge, Malvern</td>\n      <td>43.811525</td>\n      <td>-79.195517</td>\n    </tr>\n    <tr>\n      <th>1</th>\n      <td>M1C</td>\n      <td>Scarborough</td>\n      <td>Highland Creek, Rouge Hill, Port Union</td>\n      <td>43.785730</td>\n      <td>-79.158750</td>\n    </tr>\n    <tr>\n      <th>2</th>\n      <td>M1E</td>\n      <td>Scarborough</td>\n      <td>Guildwood, Morningside, West Hill</td>\n      <td>43.765690</td>\n      <td>-79.175256</td>\n    </tr>\n    <tr>\n      <th>3</th>\n      <td>M1G</td>\n      <td>Scarborough</td>\n      <td>Woburn</td>\n      <td>43.768359</td>\n      <td>-79.217590</td>\n    </tr>\n    <tr>\n      <th>4</th>\n      <td>M1H</td>\n      <td>Scarborough</td>\n      <td>Cedarbrae</td>\n      <td>43.769688</td>\n      <td>-79.239440</td>\n    </tr>\n    <tr>\n      <th>5</th>\n      <td>M1J</td>\n      <td>Scarborough</td>\n      <td>Scarborough Village</td>\n      <td>43.743125</td>\n      <td>-79.231750</td>\n    </tr>\n    <tr>\n      <th>6</th>\n      <td>M1K</td>\n      <td>Scarborough</td>\n      <td>East Birchmount Park, Ionview, Kennedy Park</td>\n      <td>43.726245</td>\n      <td>-79.263670</td>\n    </tr>\n    <tr>\n      <th>7</th>\n      <td>M1L</td>\n      <td>Scarborough</td>\n      <td>Clairlea, Golden Mile, Oakridge</td>\n      <td>43.713133</td>\n      <td>-79.285055</td>\n    </tr>\n    <tr>\n      <th>8</th>\n      <td>M1M</td>\n      <td>Scarborough</td>\n      <td>Cliffcrest, Cliffside, Scarborough Village West</td>\n      <td>43.723575</td>\n      <td>-79.234976</td>\n    </tr>\n    <tr>\n      <th>9</th>\n      <td>M1N</td>\n      <td>Scarborough</td>\n      <td>Birch Cliff, Cliffside West</td>\n      <td>43.696665</td>\n      <td>-79.260163</td>\n    </tr>\n  </tbody>\n</table>\n</div>"
                    }, 
                    "metadata": {}
                }
            ], 
            "metadata": {}
        }
    ], 
    "nbformat": 4, 
    "metadata": {
        "kernelspec": {
            "display_name": "Python 3", 
            "name": "python3", 
            "language": "python"
        }, 
        "language_info": {
            "mimetype": "text/x-python", 
            "nbconvert_exporter": "python", 
            "version": "3.7.1", 
            "name": "python", 
            "file_extension": ".py", 
            "pygments_lexer": "ipython3", 
            "codemirror_mode": {
                "version": 3, 
                "name": "ipython"
            }
        }
    }
}