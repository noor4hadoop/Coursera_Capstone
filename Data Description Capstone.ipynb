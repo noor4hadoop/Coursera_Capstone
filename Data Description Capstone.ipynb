{
 "cells": [
  {
   "cell_type": "markdown",
   "metadata": {},
   "source": [
    "## Data"
   ]
  },
  {
   "cell_type": "markdown",
   "metadata": {},
   "source": [
    "\n",
    "**To help Ravi in his search we will need to access following data:**\n",
    "\n"
   ]
  },
  {
   "cell_type": "markdown",
   "metadata": {},
   "source": [
    "**The Localities of Durham Region, Ontario from Wikipedia: https://en.wikipedia.org/wiki/Regional_Municipality_of_Durham**\n",
    " \n",
    " **The coordinates (latitude, longitude) ot the Localities of Durham Region from Open Street Map APIs**\n",
    "\n",
    "**From Foursquare we will need following venues data:**\n",
    "  - the Fast Food venues of the Localities\n",
    "  - the offices venues of the Localities\n",
    "  - the high schools venues of the Localities\n",
    "  - the universities and college venues of the Localities\n",
    "  - the shopping malls of the Localities\n",
    "\n"
   ]
  },
  {
   "cell_type": "markdown",
   "metadata": {},
   "source": [
    "**We will then leverage the data in order to determine which locality is the most appropriate in order to locate the fast food corner.** "
   ]
  }
 ],
 "metadata": {
  "kernelspec": {
   "display_name": "Python 3",
   "language": "python",
   "name": "python3"
  },
  "language_info": {
   "codemirror_mode": {
    "name": "ipython",
    "version": 3
   },
   "file_extension": ".py",
   "mimetype": "text/x-python",
   "name": "python",
   "nbconvert_exporter": "python",
   "pygments_lexer": "ipython3",
   "version": "3.7.1"
  }
 },
 "nbformat": 4,
 "nbformat_minor": 2
}
