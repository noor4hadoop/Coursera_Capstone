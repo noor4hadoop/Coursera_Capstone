{
 "cells": [
  {
   "cell_type": "markdown",
   "metadata": {},
   "source": [
    "## Introduction"
   ]
  },
  {
   "cell_type": "markdown",
   "metadata": {},
   "source": [
    "**My Friend Ravi needs to Open a fast food restaurant in Durham Region, Canada. He is new to Ontario, hence looking for best city to open his restaurant which is closer to schools, universities, colleges and office locations.**\n",
    "\n",
    "**Being his friend and business partner, i am helping Ravi to provide him the best analysis on Durham Region to find best Locality for opening new business.**"
   ]
  },
  {
   "cell_type": "markdown",
   "metadata": {},
   "source": [
    "## Business Problem"
   ]
  },
  {
   "cell_type": "markdown",
   "metadata": {},
   "source": [
    "**In order to open New restaurant, we will have the need to use some information about the Localities in Durham Region.\n",
    "We must be sure that the place where the Fast food Corner is opened will have enough customers and also that there aren't a large amount of fast food joints in the place.**\n"
   ]
  },
  {
   "cell_type": "code",
   "execution_count": null,
   "metadata": {},
   "outputs": [],
   "source": []
  }
 ],
 "metadata": {
  "kernelspec": {
   "display_name": "Python 3",
   "language": "python",
   "name": "python3"
  },
  "language_info": {
   "codemirror_mode": {
    "name": "ipython",
    "version": 3
   },
   "file_extension": ".py",
   "mimetype": "text/x-python",
   "name": "python",
   "nbconvert_exporter": "python",
   "pygments_lexer": "ipython3",
   "version": "3.7.1"
  }
 },
 "nbformat": 4,
 "nbformat_minor": 2
}
